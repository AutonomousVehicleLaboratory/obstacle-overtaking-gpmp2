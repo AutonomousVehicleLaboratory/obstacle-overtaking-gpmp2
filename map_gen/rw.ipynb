{
 "cells": [
  {
   "cell_type": "code",
   "execution_count": null,
   "metadata": {},
   "outputs": [],
   "source": []
  },
  {
   "cell_type": "code",
   "execution_count": 41,
   "metadata": {},
   "outputs": [],
   "source": [
    "import csv\n",
    "\n",
    "RefTraj = []\n",
    "with open(\"data/global_plan.csv\", 'r') as file:\n",
    "    csvreader = csv.reader(file)\n",
    "    header = next(csvreader)\n",
    "    RefTraj.append(header)\n",
    "    for row in csvreader:\n",
    "        RefTraj.append(row)"
   ]
  },
  {
   "cell_type": "code",
   "execution_count": 53,
   "metadata": {},
   "outputs": [],
   "source": [
    "RefTraj_X = []\n",
    "RefTraj_Y = []\n",
    "for i in range(1,len(RefTraj)):\n",
    "    #print(i)\n",
    "    RefTraj_X.append(float(RefTraj[i][0]))\n",
    "    RefTraj_Y.append(float(RefTraj[i][1]))"
   ]
  },
  {
   "cell_type": "code",
   "execution_count": 57,
   "metadata": {},
   "outputs": [
    {
     "data": {
      "text/plain": [
       "203"
      ]
     },
     "execution_count": 57,
     "metadata": {},
     "output_type": "execute_result"
    }
   ],
   "source": [
    "#print(type(RefTraj_X[1]))\n",
    "len(RefTraj_X)"
   ]
  },
  {
   "cell_type": "code",
   "execution_count": 60,
   "metadata": {},
   "outputs": [
    {
     "data": {
      "image/png": "[encoded data removed]",
      "text/plain": [
       "<Figure size 640x480 with 1 Axes>"
      ]
     },
     "metadata": {},
     "output_type": "display_data"
    }
   ],
   "source": [
    "import matplotlib.pyplot as plt\n",
    "fig = plt.figure()\n",
    "\n",
    "for i in range(2,len(RefTraj)-1):\n",
    "    plt.plot(RefTraj_X[i],RefTraj_Y[i],marker = 'o')\n",
    "\n",
    "x = [float(RefTraj[2][0])]\n",
    "y = [float(RefTraj[2][1])]\n",
    "\n",
    "#lt.plot(RefTraj[2][0][0],RefTraj[2][1][0],marker = 'o', markersize = 2)\n",
    "#plt.plot(x,y,marker = 'o', markersize = 10)\n",
    "\n",
    "plt.xlim(-300, -100)\n",
    "plt.ylim(-500, -200)\n",
    "plt.grid(True)\n",
    "plt.show()"
   ]
  },
  {
   "cell_type": "code",
   "execution_count": 61,
   "metadata": {},
   "outputs": [],
   "source": [
    "import csv\n",
    "import pandas as pd\n",
    "import matplotlib.pyplot as plt\n",
    "import matplotlib.patches as patches\n",
    "import matplotlib as mpl\n",
    "from scipy.spatial.transform import Rotation as R\n",
    "import numpy as np"
   ]
  },
  {
   "cell_type": "code",
   "execution_count": 63,
   "metadata": {},
   "outputs": [],
   "source": [
    "# Load the lidar points\n",
    "label_df = pd.read_json('data/label_data_obstacles.json')\n",
    "lidarData = []"
   ]
  },
  {
   "cell_type": "code",
   "execution_count": 65,
   "metadata": {},
   "outputs": [
    {
     "name": "stdout",
     "output_type": "stream",
     "text": [
      "[[ 9.70044499]\n",
      " [-5.94981258]\n",
      " [ 0.63164924]\n",
      " [ 1.        ]]\n"
     ]
    }
   ],
   "source": [
    "truck = label_df[label_df[\"Truck\"].str.len() != 0]\n",
    "x_center_truck, y_center_truck, z_center_truck, x_len_truck, y_len_truck, z_len_truck, x_rot_truck, y_rot_truck, z_rot_truck = truck.iat[0,1]         # Position in meters, Orientation in degrees (Positive Clockwise)\n",
    "pos_truck = np.array([[x_center_truck],[y_center_truck],[z_center_truck],[1.0]])                                                                      # Lidar Frame\n",
    "#print(\"length of truck \")\n",
    "#print (x_len_truck)\n",
    "print(pos_truck)"
   ]
  },
  {
   "cell_type": "code",
   "execution_count": null,
   "metadata": {},
   "outputs": [],
   "source": [
    "def normalizeVec(x,y):\n",
    "    distance = np.sqrt(x*x+y*y)\n",
    "    return x/distance, y/distance\n",
    "\n",
    "def makeOffsetPoly(oldX, oldY, offset, outer_ccw = 1):\n",
    "    num_points = len(oldX)\n",
    "    newX = []\n",
    "    newY = []\n",
    "\n",
    "    for curr in range(num_points):\n",
    "        prev = (curr + num_points - 1) % num_points\n",
    "        next = (curr + 1) % num_points\n",
    "\n",
    "        vnX =  oldX[next] - oldX[curr]\n",
    "        vnY =  oldY[next] - oldY[curr]\n",
    "        vnnX, vnnY = normalizeVec(vnX,vnY)\n",
    "        nnnX = vnnY\n",
    "        nnnY = -vnnX\n",
    "\n",
    "        vpX =  oldX[curr] - oldX[prev]\n",
    "        vpY =  oldY[curr] - oldY[prev]\n",
    "        vpnX, vpnY = normalizeVec(vpX,vpY)\n",
    "        npnX = vpnY * outer_ccw\n",
    "        npnY = -vpnX * outer_ccw\n",
    "\n",
    "        bisX = (nnnX + npnX) * outer_ccw\n",
    "        bisY = (nnnY + npnY) * outer_ccw\n",
    "\n",
    "        bisnX, bisnY = normalizeVec(bisX,  bisY)\n",
    "        bislen = offset /  np.sqrt((1 + nnnX*npnX + nnnY*npnY)/2)\n",
    "\n",
    "        newX.append(oldX[curr] + bislen * bisnX)\n",
    "        newY.append(oldY[curr] + bislen * bisnY)\n",
    "        #print(curr)\n",
    "        #print(newX[curr])\n",
    "        #print(newY[curr])\n",
    "\n",
    "    return newX, newY\n",
    "\n",
    "leftlane_X, leftlane_Y = makeOffsetPoly(global_plan_x, global_plan_y, 0.75*road_width, -1)\n",
    "print(leftlane_X)\n",
    "print(leftlane_Y)"
   ]
  },
  {
   "cell_type": "code",
   "execution_count": 1,
   "metadata": {},
   "outputs": [],
   "source": [
    "import numpy as np"
   ]
  },
  {
   "cell_type": "code",
   "execution_count": 4,
   "metadata": {},
   "outputs": [
    {
     "name": "stdout",
     "output_type": "stream",
     "text": [
      "(4, 2)\n"
     ]
    }
   ],
   "source": [
    "rect_van = np.array([[1,1], [2,2], [3,3], [4,4]], dtype='float32')\n",
    "print(rect_van.shape)\n",
    "\n",
    "rect_van_shape = rect_van.reshape(4,1,2)\n",
    "#print(rect_van_shape.shape)"
   ]
  },
  {
   "cell_type": "code",
   "execution_count": 2,
   "metadata": {},
   "outputs": [],
   "source": [
    "import numpy as np"
   ]
  },
  {
   "cell_type": "code",
   "execution_count": 3,
   "metadata": {},
   "outputs": [],
   "source": [
    "ucsd_map = np.loadtxt(\"ucsd_map_it1.txt\")"
   ]
  },
  {
   "cell_type": "code",
   "execution_count": null,
   "metadata": {},
   "outputs": [],
   "source": []
  }
 ],
 "metadata": {
  "kernelspec": {
   "display_name": "Python 3.8.10 64-bit",
   "language": "python",
   "name": "python3"
  },
  "language_info": {
   "codemirror_mode": {
    "name": "ipython",
    "version": 3
   },
   "file_extension": ".py",
   "mimetype": "text/x-python",
   "name": "python",
   "nbconvert_exporter": "python",
   "pygments_lexer": "ipython3",
   "version": "3.8.10"
  },
  "orig_nbformat": 4,
  "vscode": {
   "interpreter": {
    "hash": "31f2aee4e71d21fbe5cf8b01ff0e069b9275f58929596ceb00d14d90e3e16cd6"
   }
  }
 },
 "nbformat": 4,
 "nbformat_minor": 2
}
